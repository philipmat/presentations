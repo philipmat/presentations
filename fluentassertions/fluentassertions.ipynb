{
  "cells": [
    {
      "cell_type": "markdown",
      "metadata": {},
      "source": [
        "# Improving Test Writing, Reading, and Troubleshooting"
      ]
    },
    {
      "cell_type": "markdown",
      "metadata": {},
      "source": [
        "> If you can’t make something self-evident, you at least need to make it self-explanatory.  \n",
        "> ― Steve Krug, Don't Make Me Think"
      ]
    },
    {
      "cell_type": "code",
      "execution_count": 1,
      "metadata": {
        "dotnet_interactive": {
          "language": "csharp"
        }
      },
      "source": [
        "#r \"nuget:FluentAssertions,5.10.3\"\n",
        "#r \"nuget:NUnit,3.12.0\"\n",
        "\n",
        "int returnedValue = 5;\n",
        "\n",
        "string helloWorld = \"Hello, World!\";\n",
        "System.Collections.Generic.List<string> colors = new() { \"red\", \"blue\", \"green\" };"
      ],
      "outputs": []
    },
    {
      "cell_type": "markdown",
      "metadata": {},
      "source": [
        "# Closely Matching Your Mental Model\n",
        "What's the problem with `Assert.AreEqual(returnedValue, 4)`?\n",
        "\n",
        "1. Doesn't match the usual mental developer model of `value == 4`. If anything, it's more like Reverse Polish Notation: `== value 4`.\n",
        "2. Without tooltips, can you tell which one is is the `actual` parameters and which one is the `expected` parameter? It does influence the resulting message.  \n",
        "  `expected` is actually the first parameter, so the *semantically* correct way to write that assert is really `Assert.AreEqual(4, returnedValue)`.\n",
        "\n",
        "How would this look like in FluentAssertions: `returnedValue.Should().Be(4)`.\n",
        "\n",
        "To be fair, `Assert.AreEqual` is NUnit 2 (called *Classic Model*). NUnit 3 assertions, called *Constraint Model* read a bit better: `Assert.That(returnedValue. Is.EqualTo(4))`."
      ]
    },
    {
      "cell_type": "markdown",
      "metadata": {},
      "source": [
        "# Reasons\n",
        "Sometimes it may be entirely obvious why `returnedValue` should be precisely `4`, but it does reek of [Magic Number Anti-pattern](https://www.pluralsight.com/tech-blog/avoiding-magic-numbers/).\n",
        "\n",
        "You can kind of do it in NUnit, and while familiar is still a bit clumsy. Compare:"
      ]
    },
    {
      "cell_type": "code",
      "execution_count": 1,
      "metadata": {
        "dotnet_interactive": {
          "language": "csharp"
        }
      },
      "source": [
        "using NUnit.Framework;\n",
        "Assert.AreEqual(4, returnedValue, \"We seeded 4 values\");"
      ],
      "outputs": [
        {
          "output_type": "error",
          "ename": "Error",
          "evalue": "NUnit.Framework.AssertionException:   We seeded 4 values\r\n  Expected: 4\r\n  But was:  5\r\n\r\n   at NUnit.Framework.Assert.ReportFailure(String message) in D:\\a\\1\\s\\src\\NUnitFramework\\framework\\Assert.cs:line 394\r\n   at NUnit.Framework.Assert.ReportFailure(ConstraintResult result, String message, Object[] args) in D:\\a\\1\\s\\src\\NUnitFramework\\framework\\Assert.cs:line 382\r\n   at NUnit.Framework.Assert.That[TActual](TActual actual, IResolveConstraint expression, String message, Object[] args) in D:\\a\\1\\s\\src\\NUnitFramework\\framework\\Assert.That.cs:line 240\r\n   at NUnit.Framework.Assert.AreEqual(Object expected, Object actual, String message, Object[] args) in D:\\a\\1\\s\\src\\NUnitFramework\\framework\\Assert.Equality.cs:line 115\r\n   at Submission#33.<<Initialize>>d__0.MoveNext()\r\n--- End of stack trace from previous location ---\r\n   at Microsoft.CodeAnalysis.Scripting.ScriptExecutionState.RunSubmissionsAsync[TResult](ImmutableArray`1 precedingExecutors, Func`2 currentExecutor, StrongBox`1 exceptionHolderOpt, Func`2 catchExceptionOpt, CancellationToken cancellationToken)",
          "traceback": []
        }
      ]
    },
    {
      "cell_type": "code",
      "execution_count": 1,
      "metadata": {
        "dotnet_interactive": {
          "language": "csharp"
        }
      },
      "source": [
        "using FluentAssertions;\n",
        "returnedValue.Should().Be(4, because: \"that's how many values we seeded\");"
      ],
      "outputs": [
        {
          "output_type": "error",
          "ename": "Error",
          "evalue": "NUnit.Framework.AssertionException: Expected value to be 4 because that's how many values we seeded, but found 5.\r\n   at FluentAssertions.Execution.LateBoundTestFramework.Throw(String message) in C:\\projects\\fluentassertions-vf06b\\Src\\FluentAssertions\\Execution\\LateBoundTestFramework.cs:line 16\r\n   at FluentAssertions.Execution.TestFrameworkProvider.Throw(String message) in C:\\projects\\fluentassertions-vf06b\\Src\\FluentAssertions\\Execution\\TestFrameworkProvider.cs:line 40\r\n   at FluentAssertions.Execution.DefaultAssertionStrategy.HandleFailure(String message) in C:\\projects\\fluentassertions-vf06b\\Src\\FluentAssertions\\Execution\\DefaultAssertionStrategy.cs:line 29\r\n   at FluentAssertions.Execution.AssertionScope.FailWith(Func`1 failReasonFunc) in C:\\projects\\fluentassertions-vf06b\\Src\\FluentAssertions\\Execution\\AssertionScope.cs:line 223\r\n   at FluentAssertions.Execution.AssertionScope.FailWith(Func`1 failReasonFunc) in C:\\projects\\fluentassertions-vf06b\\Src\\FluentAssertions\\Execution\\AssertionScope.cs:line 196\r\n   at FluentAssertions.Execution.AssertionScope.FailWith(String message, Object[] args) in C:\\projects\\fluentassertions-vf06b\\Src\\FluentAssertions\\Execution\\AssertionScope.cs:line 238\r\n   at FluentAssertions.Numeric.NumericAssertions`1.Be(T expected, String because, Object[] becauseArgs) in C:\\projects\\fluentassertions-vf06b\\Src\\FluentAssertions\\Numeric\\NumericAssertions.cs:line 46\r\n   at Submission#34.<<Initialize>>d__0.MoveNext()\r\n--- End of stack trace from previous location ---\r\n   at Microsoft.CodeAnalysis.Scripting.ScriptExecutionState.RunSubmissionsAsync[TResult](ImmutableArray`1 precedingExecutors, Func`2 currentExecutor, StrongBox`1 exceptionHolderOpt, Func`2 catchExceptionOpt, CancellationToken cancellationToken)",
          "traceback": []
        }
      ]
    },
    {
      "cell_type": "markdown",
      "metadata": {},
      "source": [
        "# Specific Assertions\n",
        "NUnit 2 assertions, which we use, have extremely basic functionality that we bend manually into accomplishing what we need, increasing mental cost.  \n",
        "NUnit 3 enriches this domain, but still places a larger burned on the developer.\n",
        "\n",
        "FluentAssertions in contrast, comes with a rich library of assertions. IMO, they're all fairly self-explanatory even to the casual reader.\n",
        ""
      ]
    },
    {
      "cell_type": "markdown",
      "metadata": {},
      "source": [
        "## Strings Are Life\n",
        "A good assert framework should have support for easy to read assertions on strings.\n",
        "\n",
        "At the very basic equality, the two match. Beyond that, NUnit assertions fall quickly behind."
      ]
    },
    {
      "cell_type": "code",
      "execution_count": 1,
      "metadata": {
        "dotnet_interactive": {
          "language": "csharp"
        }
      },
      "source": [
        "using NUnit.Framework;\n",
        "Assert.AreEqual(\"Hello World\", helloWorld);"
      ],
      "outputs": [
        {
          "output_type": "error",
          "ename": "Error",
          "evalue": "NUnit.Framework.AssertionException:   Expected string length 11 but was 13. Strings differ at index 5.\r\n  Expected: \"Hello World\"\r\n  But was:  \"Hello, World!\"\r\n  ----------------^\r\n\r\n   at NUnit.Framework.Assert.ReportFailure(String message) in D:\\a\\1\\s\\src\\NUnitFramework\\framework\\Assert.cs:line 394\r\n   at NUnit.Framework.Assert.ReportFailure(ConstraintResult result, String message, Object[] args) in D:\\a\\1\\s\\src\\NUnitFramework\\framework\\Assert.cs:line 382\r\n   at NUnit.Framework.Assert.That[TActual](TActual actual, IResolveConstraint expression, String message, Object[] args) in D:\\a\\1\\s\\src\\NUnitFramework\\framework\\Assert.That.cs:line 240\r\n   at NUnit.Framework.Assert.AreEqual(Object expected, Object actual) in D:\\a\\1\\s\\src\\NUnitFramework\\framework\\Assert.Equality.cs:line 128\r\n   at Submission#35.<<Initialize>>d__0.MoveNext()\r\n--- End of stack trace from previous location ---\r\n   at Microsoft.CodeAnalysis.Scripting.ScriptExecutionState.RunSubmissionsAsync[TResult](ImmutableArray`1 precedingExecutors, Func`2 currentExecutor, StrongBox`1 exceptionHolderOpt, Func`2 catchExceptionOpt, CancellationToken cancellationToken)",
          "traceback": []
        }
      ]
    },
    {
      "cell_type": "code",
      "execution_count": 1,
      "metadata": {
        "dotnet_interactive": {
          "language": "csharp"
        }
      },
      "source": [
        "using FluentAssertions;\n",
        "helloWorld.Should().Be(\"Hello World\");"
      ],
      "outputs": [
        {
          "output_type": "error",
          "ename": "Error",
          "evalue": "NUnit.Framework.AssertionException: Expected string to be \r\n\"Hello World\" with a length of 11, but \r\n\"Hello, World!\" has a length of 13, differs near \", W\" (index 5).\r\n   at FluentAssertions.Execution.LateBoundTestFramework.Throw(String message) in C:\\projects\\fluentassertions-vf06b\\Src\\FluentAssertions\\Execution\\LateBoundTestFramework.cs:line 16\r\n   at FluentAssertions.Execution.TestFrameworkProvider.Throw(String message) in C:\\projects\\fluentassertions-vf06b\\Src\\FluentAssertions\\Execution\\TestFrameworkProvider.cs:line 40\r\n   at FluentAssertions.Execution.DefaultAssertionStrategy.HandleFailure(String message) in C:\\projects\\fluentassertions-vf06b\\Src\\FluentAssertions\\Execution\\DefaultAssertionStrategy.cs:line 29\r\n   at FluentAssertions.Execution.AssertionScope.FailWith(Func`1 failReasonFunc) in C:\\projects\\fluentassertions-vf06b\\Src\\FluentAssertions\\Execution\\AssertionScope.cs:line 223\r\n   at FluentAssertions.Execution.AssertionScope.FailWith(Func`1 failReasonFunc) in C:\\projects\\fluentassertions-vf06b\\Src\\FluentAssertions\\Execution\\AssertionScope.cs:line 196\r\n   at FluentAssertions.Primitives.StringEqualityValidator.ValidateAgainstLengthDifferences() in C:\\projects\\fluentassertions-vf06b\\Src\\FluentAssertions\\Primitives\\StringEqualityValidator.cs:line 31\r\n   at FluentAssertions.Primitives.StringValidator.Validate() in C:\\projects\\fluentassertions-vf06b\\Src\\FluentAssertions\\Primitives\\StringValidator.cs:line 41\r\n   at FluentAssertions.Primitives.StringAssertions.Be(String expected, String because, Object[] becauseArgs) in C:\\projects\\fluentassertions-vf06b\\Src\\FluentAssertions\\Primitives\\StringAssertions.cs:line 39\r\n   at Submission#36.<<Initialize>>d__0.MoveNext()\r\n--- End of stack trace from previous location ---\r\n   at Microsoft.CodeAnalysis.Scripting.ScriptExecutionState.RunSubmissionsAsync[TResult](ImmutableArray`1 precedingExecutors, Func`2 currentExecutor, StrongBox`1 exceptionHolderOpt, Func`2 catchExceptionOpt, CancellationToken cancellationToken)",
          "traceback": []
        }
      ]
    },
    {
      "cell_type": "markdown",
      "metadata": {},
      "source": [
        "What about complex assertions?\n",
        "\n",
        "1. String is null or empty;\n",
        "2. Compare two strings case insensitive;\n",
        "3. String contains another string;\n",
        "4. Compare string ranges (beginning/end);\n",
        "5. String matches expression or RegEx"
      ]
    },
    {
      "cell_type": "markdown",
      "metadata": {},
      "source": [
        "### String Is Null or Empty, Null or Whitespace"
      ]
    },
    {
      "cell_type": "code",
      "execution_count": 1,
      "metadata": {
        "dotnet_interactive": {
          "language": "csharp"
        }
      },
      "source": [
        "using NUnit.Framework;\n",
        "Assert.IsTrue(string.IsNullOrEmpty(helloWorld)); // => Terrible message Expected: True but was: False"
      ],
      "outputs": [
        {
          "output_type": "error",
          "ename": "Error",
          "evalue": "NUnit.Framework.AssertionException:   Expected: True\r\n  But was:  False\r\n\r\n   at NUnit.Framework.Assert.ReportFailure(String message) in D:\\a\\1\\s\\src\\NUnitFramework\\framework\\Assert.cs:line 394\r\n   at NUnit.Framework.Assert.ReportFailure(ConstraintResult result, String message, Object[] args) in D:\\a\\1\\s\\src\\NUnitFramework\\framework\\Assert.cs:line 382\r\n   at NUnit.Framework.Assert.That[TActual](TActual actual, IResolveConstraint expression, String message, Object[] args) in D:\\a\\1\\s\\src\\NUnitFramework\\framework\\Assert.That.cs:line 240\r\n   at NUnit.Framework.Assert.IsTrue(Boolean condition) in D:\\a\\1\\s\\src\\NUnitFramework\\framework\\Assert.Conditions.cs:line 119\r\n   at Submission#37.<<Initialize>>d__0.MoveNext()\r\n--- End of stack trace from previous location ---\r\n   at Microsoft.CodeAnalysis.Scripting.ScriptExecutionState.RunSubmissionsAsync[TResult](ImmutableArray`1 precedingExecutors, Func`2 currentExecutor, StrongBox`1 exceptionHolderOpt, Func`2 catchExceptionOpt, CancellationToken cancellationToken)",
          "traceback": []
        }
      ]
    },
    {
      "cell_type": "code",
      "execution_count": 1,
      "metadata": {
        "dotnet_interactive": {
          "language": "csharp"
        }
      },
      "source": [
        "using FluentAssertions;\n",
        "helloWorld.Should().BeNullOrEmpty();"
      ],
      "outputs": [
        {
          "output_type": "error",
          "ename": "Error",
          "evalue": "NUnit.Framework.AssertionException: Expected string to be <null> or empty, but found \"Hello, World!\".\r\n   at FluentAssertions.Execution.LateBoundTestFramework.Throw(String message) in C:\\projects\\fluentassertions-vf06b\\Src\\FluentAssertions\\Execution\\LateBoundTestFramework.cs:line 16\r\n   at FluentAssertions.Execution.TestFrameworkProvider.Throw(String message) in C:\\projects\\fluentassertions-vf06b\\Src\\FluentAssertions\\Execution\\TestFrameworkProvider.cs:line 40\r\n   at FluentAssertions.Execution.DefaultAssertionStrategy.HandleFailure(String message) in C:\\projects\\fluentassertions-vf06b\\Src\\FluentAssertions\\Execution\\DefaultAssertionStrategy.cs:line 29\r\n   at FluentAssertions.Execution.AssertionScope.FailWith(Func`1 failReasonFunc) in C:\\projects\\fluentassertions-vf06b\\Src\\FluentAssertions\\Execution\\AssertionScope.cs:line 223\r\n   at FluentAssertions.Execution.AssertionScope.FailWith(Func`1 failReasonFunc) in C:\\projects\\fluentassertions-vf06b\\Src\\FluentAssertions\\Execution\\AssertionScope.cs:line 196\r\n   at FluentAssertions.Execution.AssertionScope.FailWith(String message, Object[] args) in C:\\projects\\fluentassertions-vf06b\\Src\\FluentAssertions\\Execution\\AssertionScope.cs:line 238\r\n   at FluentAssertions.Primitives.StringAssertions.BeNullOrEmpty(String because, Object[] becauseArgs) in C:\\projects\\fluentassertions-vf06b\\Src\\FluentAssertions\\Primitives\\StringAssertions.cs:line 1049\r\n   at Submission#38.<<Initialize>>d__0.MoveNext()\r\n--- End of stack trace from previous location ---\r\n   at Microsoft.CodeAnalysis.Scripting.ScriptExecutionState.RunSubmissionsAsync[TResult](ImmutableArray`1 precedingExecutors, Func`2 currentExecutor, StrongBox`1 exceptionHolderOpt, Func`2 catchExceptionOpt, CancellationToken cancellationToken)",
          "traceback": []
        }
      ]
    },
    {
      "cell_type": "markdown",
      "metadata": {},
      "source": [
        "### Compare two string case insensitive"
      ]
    },
    {
      "cell_type": "code",
      "execution_count": 1,
      "metadata": {
        "dotnet_interactive": {
          "language": "csharp"
        }
      },
      "source": [
        "using NUnit.Framework;\n",
        "Assert.AreEqual(\"YELLO, WORLD!\", helloWorld.ToUpperInvariant()); // ugly but functional"
      ],
      "outputs": []
    },
    {
      "cell_type": "code",
      "execution_count": 1,
      "metadata": {
        "dotnet_interactive": {
          "language": "csharp"
        }
      },
      "source": [
        "using FluentAssertions;\n",
        "helloWorld.Should().BeEquivalentTo(\"yello, world!\");"
      ],
      "outputs": []
    },
    {
      "cell_type": "markdown",
      "metadata": {},
      "source": [
        "### String contains another string"
      ]
    },
    {
      "cell_type": "code",
      "execution_count": 1,
      "metadata": {
        "dotnet_interactive": {
          "language": "csharp"
        }
      },
      "source": [
        "using NUnit.Framework;\n",
        "// Assert.Contains is for collections, not strings"
      ],
      "outputs": []
    },
    {
      "cell_type": "code",
      "execution_count": 1,
      "metadata": {
        "dotnet_interactive": {
          "language": "csharp"
        }
      },
      "source": [
        "using FluentAssertions;\n",
        "helloWorld.Should().Contain(\"; \");"
      ],
      "outputs": []
    },
    {
      "cell_type": "markdown",
      "metadata": {},
      "source": [
        "### Compare string ranges or parts"
      ]
    },
    {
      "cell_type": "code",
      "execution_count": 1,
      "metadata": {
        "dotnet_interactive": {
          "language": "csharp"
        }
      },
      "source": [
        "using NUnit.Framework;\n",
        "Assert.IsTrue(helloWorld.StartsWith(\"H\") && helloWorld.EndsWith(\"!\")); // ugly AND useless message"
      ],
      "outputs": []
    },
    {
      "cell_type": "code",
      "execution_count": 1,
      "metadata": {
        "dotnet_interactive": {
          "language": "csharp"
        }
      },
      "source": [
        "using FluentAssertions;\n",
        "helloWorld.Should().StartWith(\"H\").And.EndWith(\"?\");"
      ],
      "outputs": [
        {
          "output_type": "error",
          "ename": "Error",
          "evalue": "NUnit.Framework.AssertionException: Expected string \"Hello, World!\" to end with \"?\".\r\n   at FluentAssertions.Execution.LateBoundTestFramework.Throw(String message) in C:\\projects\\fluentassertions-vf06b\\Src\\FluentAssertions\\Execution\\LateBoundTestFramework.cs:line 16\r\n   at FluentAssertions.Execution.TestFrameworkProvider.Throw(String message) in C:\\projects\\fluentassertions-vf06b\\Src\\FluentAssertions\\Execution\\TestFrameworkProvider.cs:line 40\r\n   at FluentAssertions.Execution.DefaultAssertionStrategy.HandleFailure(String message) in C:\\projects\\fluentassertions-vf06b\\Src\\FluentAssertions\\Execution\\DefaultAssertionStrategy.cs:line 29\r\n   at FluentAssertions.Execution.AssertionScope.FailWith(Func`1 failReasonFunc) in C:\\projects\\fluentassertions-vf06b\\Src\\FluentAssertions\\Execution\\AssertionScope.cs:line 223\r\n   at FluentAssertions.Execution.AssertionScope.FailWith(Func`1 failReasonFunc) in C:\\projects\\fluentassertions-vf06b\\Src\\FluentAssertions\\Execution\\AssertionScope.cs:line 196\r\n   at FluentAssertions.Execution.AssertionScope.FailWith(String message, Object[] args) in C:\\projects\\fluentassertions-vf06b\\Src\\FluentAssertions\\Execution\\AssertionScope.cs:line 238\r\n   at FluentAssertions.Primitives.StringAssertions.EndWith(String expected, String because, Object[] becauseArgs) in C:\\projects\\fluentassertions-vf06b\\Src\\FluentAssertions\\Primitives\\StringAssertions.cs:line 480\r\n   at Submission#39.<<Initialize>>d__0.MoveNext()\r\n--- End of stack trace from previous location ---\r\n   at Microsoft.CodeAnalysis.Scripting.ScriptExecutionState.RunSubmissionsAsync[TResult](ImmutableArray`1 precedingExecutors, Func`2 currentExecutor, StrongBox`1 exceptionHolderOpt, Func`2 catchExceptionOpt, CancellationToken cancellationToken)",
          "traceback": []
        }
      ]
    },
    {
      "cell_type": "markdown",
      "metadata": {},
      "source": [
        "### More complex string matching rules"
      ]
    },
    {
      "cell_type": "code",
      "execution_count": 1,
      "metadata": {
        "dotnet_interactive": {
          "language": "csharp"
        }
      },
      "source": [
        "using NUnit.Framework;\n",
        "// some variant of IsTrue"
      ],
      "outputs": []
    },
    {
      "cell_type": "code",
      "execution_count": 1,
      "metadata": {
        "dotnet_interactive": {
          "language": "csharp"
        }
      },
      "source": [
        "using FluentAssertions;\n",
        "helloWorld.Should().Match(\"Hello*World?*\");"
      ],
      "outputs": []
    },
    {
      "cell_type": "code",
      "execution_count": 1,
      "metadata": {
        "dotnet_interactive": {
          "language": "csharp"
        }
      },
      "source": [
        "using FluentAssertions;\n",
        "helloWorld.Should().MatchRegex(@\"\\w \\w\");"
      ],
      "outputs": []
    },
    {
      "cell_type": "markdown",
      "metadata": {},
      "source": [
        "## Collections Are Also Life\n",
        "Collection validation may require complex rules at time, but for 80% of the case the framework should provide sensible values.\n",
        "\n",
        "Unfortunately NUnit falls terribly short in this chapter, putting the onus on the developer. Instead of easy to read and reason code, collection assertions become a game of mental compilation."
      ]
    },
    {
      "cell_type": "markdown",
      "metadata": {},
      "source": [
        "### Count of elements"
      ]
    },
    {
      "cell_type": "code",
      "execution_count": 1,
      "metadata": {
        "dotnet_interactive": {
          "language": "csharp"
        }
      },
      "source": [
        "using NUnit.Framework;\n",
        "Assert.AreEqual(4, colors.Count()); // poor message if mixed with other numeric asserts"
      ],
      "outputs": [
        {
          "output_type": "error",
          "ename": "Error",
          "evalue": "NUnit.Framework.AssertionException:   Expected: 4\r\n  But was:  3\r\n\r\n   at NUnit.Framework.Assert.ReportFailure(String message) in D:\\a\\1\\s\\src\\NUnitFramework\\framework\\Assert.cs:line 394\r\n   at NUnit.Framework.Assert.ReportFailure(ConstraintResult result, String message, Object[] args) in D:\\a\\1\\s\\src\\NUnitFramework\\framework\\Assert.cs:line 382\r\n   at NUnit.Framework.Assert.That[TActual](TActual actual, IResolveConstraint expression, String message, Object[] args) in D:\\a\\1\\s\\src\\NUnitFramework\\framework\\Assert.That.cs:line 240\r\n   at NUnit.Framework.Assert.AreEqual(Object expected, Object actual) in D:\\a\\1\\s\\src\\NUnitFramework\\framework\\Assert.Equality.cs:line 128\r\n   at Submission#40.<<Initialize>>d__0.MoveNext()\r\n--- End of stack trace from previous location ---\r\n   at Microsoft.CodeAnalysis.Scripting.ScriptExecutionState.RunSubmissionsAsync[TResult](ImmutableArray`1 precedingExecutors, Func`2 currentExecutor, StrongBox`1 exceptionHolderOpt, Func`2 catchExceptionOpt, CancellationToken cancellationToken)",
          "traceback": []
        }
      ]
    },
    {
      "cell_type": "code",
      "execution_count": 1,
      "metadata": {
        "dotnet_interactive": {
          "language": "csharp"
        }
      },
      "source": [
        "using FluentAssertions;\n",
        "colors.Should().HaveCount(4);"
      ],
      "outputs": [
        {
          "output_type": "error",
          "ename": "Error",
          "evalue": "NUnit.Framework.AssertionException: Expected collection to contain 4 item(s), but found 3.\r\n   at FluentAssertions.Execution.LateBoundTestFramework.Throw(String message) in C:\\projects\\fluentassertions-vf06b\\Src\\FluentAssertions\\Execution\\LateBoundTestFramework.cs:line 16\r\n   at FluentAssertions.Execution.TestFrameworkProvider.Throw(String message) in C:\\projects\\fluentassertions-vf06b\\Src\\FluentAssertions\\Execution\\TestFrameworkProvider.cs:line 40\r\n   at FluentAssertions.Execution.DefaultAssertionStrategy.HandleFailure(String message) in C:\\projects\\fluentassertions-vf06b\\Src\\FluentAssertions\\Execution\\DefaultAssertionStrategy.cs:line 29\r\n   at FluentAssertions.Execution.AssertionScope.FailWith(Func`1 failReasonFunc) in C:\\projects\\fluentassertions-vf06b\\Src\\FluentAssertions\\Execution\\AssertionScope.cs:line 223\r\n   at FluentAssertions.Execution.AssertionScope.FailWith(Func`1 failReasonFunc) in C:\\projects\\fluentassertions-vf06b\\Src\\FluentAssertions\\Execution\\AssertionScope.cs:line 196\r\n   at FluentAssertions.Execution.AssertionScope.FailWith(String message, Object[] args) in C:\\projects\\fluentassertions-vf06b\\Src\\FluentAssertions\\Execution\\AssertionScope.cs:line 238\r\n   at FluentAssertions.Collections.SelfReferencingCollectionAssertions`2.HaveCount(Int32 expected, String because, Object[] becauseArgs) in C:\\projects\\fluentassertions-vf06b\\Src\\FluentAssertions\\Collections\\SelfReferencingCollectionAssertions.cs:line 44\r\n   at Submission#41.<<Initialize>>d__0.MoveNext()\r\n--- End of stack trace from previous location ---\r\n   at Microsoft.CodeAnalysis.Scripting.ScriptExecutionState.RunSubmissionsAsync[TResult](ImmutableArray`1 precedingExecutors, Func`2 currentExecutor, StrongBox`1 exceptionHolderOpt, Func`2 catchExceptionOpt, CancellationToken cancellationToken)",
          "traceback": []
        }
      ]
    },
    {
      "cell_type": "markdown",
      "metadata": {},
      "source": [
        "### Contains a certain element"
      ]
    },
    {
      "cell_type": "code",
      "execution_count": 1,
      "metadata": {
        "dotnet_interactive": {
          "language": "csharp"
        }
      },
      "source": [
        "using NUnit.Framework;\n",
        "Assert.Contains(\"cyan\", colors); // reads awkward"
      ],
      "outputs": []
    },
    {
      "cell_type": "code",
      "execution_count": 1,
      "metadata": {
        "dotnet_interactive": {
          "language": "csharp"
        }
      },
      "source": [
        "using FluentAssertions;\n",
        "colors.Should().Contain(\"cyan\");"
      ],
      "outputs": [
        {
          "output_type": "error",
          "ename": "Error",
          "evalue": "NUnit.Framework.AssertionException: Expected collection {\"red\", \"blue\", \"green\"} to contain \"cyan\".\r\n   at FluentAssertions.Execution.LateBoundTestFramework.Throw(String message) in C:\\projects\\fluentassertions-vf06b\\Src\\FluentAssertions\\Execution\\LateBoundTestFramework.cs:line 16\r\n   at FluentAssertions.Execution.TestFrameworkProvider.Throw(String message) in C:\\projects\\fluentassertions-vf06b\\Src\\FluentAssertions\\Execution\\TestFrameworkProvider.cs:line 40\r\n   at FluentAssertions.Execution.DefaultAssertionStrategy.HandleFailure(String message) in C:\\projects\\fluentassertions-vf06b\\Src\\FluentAssertions\\Execution\\DefaultAssertionStrategy.cs:line 29\r\n   at FluentAssertions.Execution.AssertionScope.FailWith(Func`1 failReasonFunc) in C:\\projects\\fluentassertions-vf06b\\Src\\FluentAssertions\\Execution\\AssertionScope.cs:line 223\r\n   at FluentAssertions.Execution.AssertionScope.FailWith(Func`1 failReasonFunc) in C:\\projects\\fluentassertions-vf06b\\Src\\FluentAssertions\\Execution\\AssertionScope.cs:line 196\r\n   at FluentAssertions.Execution.AssertionScope.FailWith(String message, Object[] args) in C:\\projects\\fluentassertions-vf06b\\Src\\FluentAssertions\\Execution\\AssertionScope.cs:line 238\r\n   at FluentAssertions.Collections.SelfReferencingCollectionAssertions`2.Contain(T expected, String because, Object[] becauseArgs) in C:\\projects\\fluentassertions-vf06b\\Src\\FluentAssertions\\Collections\\SelfReferencingCollectionAssertions.cs:line 413\r\n   at Submission#42.<<Initialize>>d__0.MoveNext()\r\n--- End of stack trace from previous location ---\r\n   at Microsoft.CodeAnalysis.Scripting.ScriptExecutionState.RunSubmissionsAsync[TResult](ImmutableArray`1 precedingExecutors, Func`2 currentExecutor, StrongBox`1 exceptionHolderOpt, Func`2 catchExceptionOpt, CancellationToken cancellationToken)",
          "traceback": []
        }
      ]
    },
    {
      "cell_type": "markdown",
      "metadata": {},
      "source": [
        "### Contains certain set"
      ]
    },
    {
      "cell_type": "code",
      "execution_count": 1,
      "metadata": {
        "dotnet_interactive": {
          "language": "csharp"
        }
      },
      "source": [
        "using NUnit.Framework;\n",
        "// Assert.IsTrue(colors.Contains(\"blue\") && colors.Contains(\"cyan\")); // don't know which one failed\n",
        "// alternative\n",
        "Assert.Multiple(() => {\n",
        "    Assert.Contains(\"blue\", colors);\n",
        "    Assert.Contains(\"cyan\", colors);\n",
        "});"
      ],
      "outputs": []
    },
    {
      "cell_type": "code",
      "execution_count": 1,
      "metadata": {
        "dotnet_interactive": {
          "language": "csharp"
        }
      },
      "source": [
        "using FluentAssertions;\n",
        "colors.Should().Contain(new[] { \"blue\", \"cyan\" });"
      ],
      "outputs": [
        {
          "output_type": "error",
          "ename": "Error",
          "evalue": "NUnit.Framework.AssertionException: Expected collection {\"red\", \"blue\", \"green\"} to contain {\"blue\", \"cyan\"}, but could not find {\"cyan\"}.\r\n   at FluentAssertions.Execution.LateBoundTestFramework.Throw(String message) in C:\\projects\\fluentassertions-vf06b\\Src\\FluentAssertions\\Execution\\LateBoundTestFramework.cs:line 16\r\n   at FluentAssertions.Execution.TestFrameworkProvider.Throw(String message) in C:\\projects\\fluentassertions-vf06b\\Src\\FluentAssertions\\Execution\\TestFrameworkProvider.cs:line 40\r\n   at FluentAssertions.Execution.DefaultAssertionStrategy.HandleFailure(String message) in C:\\projects\\fluentassertions-vf06b\\Src\\FluentAssertions\\Execution\\DefaultAssertionStrategy.cs:line 29\r\n   at FluentAssertions.Execution.AssertionScope.FailWith(Func`1 failReasonFunc) in C:\\projects\\fluentassertions-vf06b\\Src\\FluentAssertions\\Execution\\AssertionScope.cs:line 223\r\n   at FluentAssertions.Execution.AssertionScope.FailWith(Func`1 failReasonFunc) in C:\\projects\\fluentassertions-vf06b\\Src\\FluentAssertions\\Execution\\AssertionScope.cs:line 196\r\n   at FluentAssertions.Execution.AssertionScope.FailWith(String message, Object[] args) in C:\\projects\\fluentassertions-vf06b\\Src\\FluentAssertions\\Execution\\AssertionScope.cs:line 238\r\n   at FluentAssertions.Collections.CollectionAssertions`2.Contain(IEnumerable expected, String because, Object[] becauseArgs) in C:\\projects\\fluentassertions-vf06b\\Src\\FluentAssertions\\Collections\\CollectionAssertions.cs:line 746\r\n   at FluentAssertions.Collections.SelfReferencingCollectionAssertions`2.Contain(IEnumerable`1 expectedItemsList, T[] additionalExpectedItems) in C:\\projects\\fluentassertions-vf06b\\Src\\FluentAssertions\\Collections\\SelfReferencingCollectionAssertions.cs:line 434\r\n   at FluentAssertions.Collections.StringCollectionAssertions.Contain(IEnumerable`1 expected) in C:\\projects\\fluentassertions-vf06b\\Src\\FluentAssertions\\Collections\\StringCollectionAssertions.cs:line 150\r\n   at Submission#43.<<Initialize>>d__0.MoveNext()\r\n--- End of stack trace from previous location ---\r\n   at Microsoft.CodeAnalysis.Scripting.ScriptExecutionState.RunSubmissionsAsync[TResult](ImmutableArray`1 precedingExecutors, Func`2 currentExecutor, StrongBox`1 exceptionHolderOpt, Func`2 catchExceptionOpt, CancellationToken cancellationToken)",
          "traceback": []
        }
      ]
    },
    {
      "cell_type": "markdown",
      "metadata": {},
      "source": [
        "### Contain a certain set in the same order\n",
        "Nothing for NUnit, built-in for FA."
      ]
    },
    {
      "cell_type": "code",
      "execution_count": 1,
      "metadata": {
        "dotnet_interactive": {
          "language": "csharp"
        }
      },
      "source": [
        "using FluentAssertions;\n",
        "colors.Should().ContainInOrder(new[] { \"blue\", \"red\"});"
      ],
      "outputs": []
    },
    {
      "cell_type": "markdown",
      "metadata": {},
      "source": [
        "### Contain only unique items\n",
        "Nothing for NUnit, built-in for FA."
      ]
    },
    {
      "cell_type": "code",
      "execution_count": 1,
      "metadata": {
        "dotnet_interactive": {
          "language": "csharp"
        }
      },
      "source": [
        "using FluentAssertions;\n",
        "colors.Should().OnlyHaveUniqueItems();"
      ],
      "outputs": []
    },
    {
      "cell_type": "markdown",
      "metadata": {},
      "source": [
        "### Validate that all elements respect a certain rule\n",
        "Some variant on LINQ + `IsTrue` for NUnit. "
      ]
    },
    {
      "cell_type": "code",
      "execution_count": 1,
      "metadata": {
        "dotnet_interactive": {
          "language": "csharp"
        }
      },
      "source": [
        "using FluentAssertions;\n",
        "colors.Should().OnlyContain(x => x.Length > 3);"
      ],
      "outputs": []
    },
    {
      "cell_type": "markdown",
      "metadata": {},
      "source": [
        "### Validate that elements are sorted"
      ]
    },
    {
      "cell_type": "code",
      "execution_count": 1,
      "metadata": {
        "dotnet_interactive": {
          "language": "csharp"
        }
      },
      "source": [
        "using FluentAssertions;\n",
        "colors.Should().BeInAscendingOrder();"
      ],
      "outputs": []
    },
    {
      "cell_type": "markdown",
      "metadata": {},
      "source": [
        "### Have elements sorted by a property"
      ]
    },
    {
      "cell_type": "code",
      "execution_count": 1,
      "metadata": {
        "dotnet_interactive": {
          "language": "csharp"
        }
      },
      "source": [
        "using FluentAssertions;\n",
        "users.Should().BeInAscendingOrder(x => x.FirstName);"
      ],
      "outputs": []
    },
    {
      "cell_type": "markdown",
      "metadata": {},
      "source": [
        "FluentAssertions supports many more [collection asserts](https://fluentassertions.com/collections/) that NUnit simply doesn't support:\n",
        "* comparison of boxed objects and object graph comparison\n",
        "* precedence / succession of elements\n",
        "* intersection of collections\n",
        "* matching of strings for string collections"
      ]
    },
    {
      "cell_type": "markdown",
      "metadata": {},
      "source": [
        "## Dictionaries\n",
        "\n",
        "FA contains expected tests for presence/absence of keys and values: `ContainsKey/ContainsKeys`, `ContainsValue/Values`, counts -- `HaveCount`, and all the other collection asserts when treating the dictionary as an `IEnumerable<KeyValuePair<TK, TV>>`"
      ]
    },
    {
      "cell_type": "markdown",
      "metadata": {},
      "source": [
        "## Date and Times\n",
        "FA has [convenience methods](https://fluentassertions.com/datetimespans/) that increase readability. Remember the awkward `expected`/`actual` order in NUnit? No need for guessing in FA:\n",
        "\n",
        "```csharp\n",
        "laborDay.Should().BeOnOrAfter(1.September(2021))\n",
        "  .And.NotBeAfter(8.September(2021));\n",
        "\n",
        "serverDate.Should().BeIn(DateTimeKind.Utc);\n",
        "\n",
        "xmasDayOff.Should().BeOneOf(24.December(2021), 26.December(2021));\n",
        "\n",
        "updatedOn.Should().BeWithin(2.Seconds()).After(executionStart);\n",
        "endProcessTime.Should().BeCloseTo(DateTime.Now, TimeSpan.FromSeconds(1));\n",
        "```"
      ]
    },
    {
      "cell_type": "markdown",
      "metadata": {},
      "source": [
        "## Exceptions\n",
        "NUnit supports basic checks for assertions and for the most part they are sufficient:  \n",
        "`Assert.Throw<ArgumentNullException>(() => MethodThatThrows(param1, param2))`.\n",
        "\n",
        "But what if we want or need to perform further asserts on the exception being thrown? FA to the rescue, although with a bit more verbose syntax:\n",
        "\n",
        "```csharp\n",
        "Action constructor = () => new ConstructorThatThrows(param1: \"one\", param2: null);\n",
        "constructor.Should().Throw<ArgumentNullException>()\n",
        "  .And.ParamName.Should.Be(\"param2\");\n",
        "```\n",
        "\n",
        "Any other properties can be asserted on -- useful when exception discrimination is not class based:\n",
        "\n",
        "```csharp\n",
        "dbMethod.Should().Throw<SqlException>()\n",
        "  .And.Number.Should().Be(2627, because: \"we expected a primary key violation\");\n",
        "```\n",
        "\n",
        "Messages can be tested as well and it supports the same string wildcards that string assertions do:\n",
        "\n",
        "```csharp\n",
        "httpCall.Should().Throw<HttpException>()\n",
        "  .WithMessage(\"*BAD REQUEST*\");\n",
        "```"
      ]
    },
    {
      "cell_type": "markdown",
      "metadata": {},
      "source": [
        "## Object Graph Tests\n",
        "NUnit has some support for object testing, but it's so poorly documented that it's mostly a trial and error and then abandon it to write your own code.\n",
        "\n",
        "FA supports structural equality of two objects with `Should().BeEquivalentTo()`. It's recursive by default up to 10 levels, but it can be disabled with `options.ExcludingNestedObjects()`. \n",
        "\n",
        "There is further tuning of whether something should be compared by value (using `Object.Equals` overrides, default) or by members; auto-conversion of types by matching complex object paths, member and subsets of members.\n",
        "\n",
        "NUnit has nothing as sophisticated."
      ]
    },
    {
      "cell_type": "markdown",
      "metadata": {},
      "source": [
        "# The Rest\n",
        "\n",
        "FA has support for a wide range of features that NUnit does not. In no particular order:"
      ]
    },
    {
      "cell_type": "markdown",
      "metadata": {},
      "source": [
        "\n",
        "* More sophisticated numeric asserts: `BeInRange()`, `BeApproximately()`, `BeOneOf()`;\n",
        "* XML asserts\n",
        "* Event monitoring\n",
        "* Execution time monitoring: `someAsyncWork.Should().CompleteWithin(100.Milliseconds())`;\n",
        "* [Type, method, and property assertions](https://fluentassertions.com/typesandmethods/): `method.Should().BeVirtual()`, `typeof(SomeClass).Should().BeDecoratedWith<ProtoContract>()`, including some wide-matching class enforcement ability:\n",
        "```csharp\n",
        "typeof(MyController).Methods()\n",
        "  .ThatReturn<ActionResult>()\n",
        "  .ThatAreDecoratedWith<HttpPostAttribute>()\n",
        "  .Should()\n",
        "  .BeDecoratedWith<ValidateAntiForgeryTokenAttribute>(\n",
        "    \"because all Actions with HttpPost require ValidateAntiForgeryToken\");\n",
        "```\n",
        "* Assembly reference checking;\n",
        "* Assertion scopes so you can batch multiple assertions and get one exception with all the failures;"
      ]
    },
    {
      "cell_type": "markdown",
      "metadata": {},
      "source": [
        "> Keep it simple, so you'll keep doing it.  \n",
        "> ― Steve Krug, Don't Make Me Think"
      ]
    }
  ],
  "metadata": {
    "kernelspec": {
      "display_name": ".NET (C#)",
      "language": "C#",
      "name": ".net-csharp"
    },
    "language_info": {
      "file_extension": ".cs",
      "mimetype": "text/x-csharp",
      "name": "C#",
      "pygments_lexer": "csharp",
      "version": "8.0"
    }
  },
  "nbformat": 4,
  "nbformat_minor": 4
}
