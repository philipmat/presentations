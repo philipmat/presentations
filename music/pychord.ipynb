{
 "cells": [
  {
   "cell_type": "code",
   "execution_count": 3,
   "metadata": {},
   "outputs": [],
   "source": [
    "import pychord as mus\n",
    "import pretty_midi\n",
    "\n",
    "def create_midi(file_path :str, chords):\n",
    "    midi_data = pretty_midi.PrettyMIDI()\n",
    "    piano_program = pretty_midi.instrument_name_to_program('Acoustic Grand Piano')\n",
    "    piano = pretty_midi.Instrument(program=piano_program)\n",
    "    length = 1\n",
    "    for n, chord in enumerate(chords):\n",
    "        for note_name in chord.components_with_pitch(root_pitch=4):\n",
    "            note_number = pretty_midi.note_name_to_number(note_name)\n",
    "            note = pretty_midi.Note(velocity=100, pitch=note_number, start=n * length, end=(n + 1) * length)\n",
    "            piano.notes.append(note)\n",
    "    midi_data.instruments.append(piano)\n",
    "    midi_data.write(file_path)\n",
    "def chorder(chord_list: str, separator :str = ', '):\n",
    "    return [mus.Chord(c.strip()) for c in chord_list.split(separator)]"
   ]
  },
  {
   "cell_type": "markdown",
   "metadata": {},
   "source": [
    "# Intro to pychord"
   ]
  },
  {
   "cell_type": "markdown",
   "metadata": {},
   "source": [
    "## Create a Chord"
   ]
  },
  {
   "cell_type": "code",
   "execution_count": 4,
   "metadata": {},
   "outputs": [
    {
     "name": "stdout",
     "output_type": "stream",
     "text": [
      "Am7\n",
      "root=A\n",
      "quality=m7\n",
      "appended=[]\n",
      "on=None\n"
     ]
    }
   ],
   "source": [
    "c = mus.Chord(\"Am7\")\n",
    "print(c.info())"
   ]
  },
  {
   "cell_type": "markdown",
   "metadata": {},
   "source": [
    "## Transpose a Chord"
   ]
  },
  {
   "cell_type": "code",
   "execution_count": 6,
   "metadata": {},
   "outputs": [
    {
     "data": {
      "text/plain": "<Chord: D>"
     },
     "execution_count": 6,
     "metadata": {},
     "output_type": "execute_result"
    }
   ],
   "source": [
    "c = mus.Chord(\"C\")\n",
    "c.transpose(2)\n",
    "c"
   ]
  },
  {
   "cell_type": "code",
   "execution_count": 8,
   "metadata": {},
   "outputs": [
    {
     "data": {
      "text/plain": "<Chord: Fm/Bb>"
     },
     "execution_count": 8,
     "metadata": {},
     "output_type": "execute_result"
    }
   ],
   "source": [
    "c = mus.Chord(\"Dm/G\")\n",
    "c.transpose(3)\n",
    "c"
   ]
  },
  {
   "cell_type": "markdown",
   "metadata": {},
   "source": [
    "## Get Component Notes"
   ]
  },
  {
   "cell_type": "code",
   "execution_count": 9,
   "metadata": {},
   "outputs": [
    {
     "data": {
      "text/plain": "['D', 'F', 'A', 'C']"
     },
     "execution_count": 9,
     "metadata": {},
     "output_type": "execute_result"
    }
   ],
   "source": [
    "c = mus.Chord(\"Dm7\")\n",
    "c.components()"
   ]
  },
  {
   "cell_type": "markdown",
   "metadata": {},
   "source": [
    "## Find Chords"
   ]
  },
  {
   "cell_type": "code",
   "execution_count": 39,
   "metadata": {},
   "outputs": [
    {
     "name": "stdout",
     "output_type": "stream",
     "text": [
      "[<Chord: C>]\n",
      "[<Chord: Fsus2>, <Chord: Csus4/F>]\n",
      "Ddim7: [<Chord: Ddim6>, <Chord: Fdim6/D>, <Chord: Abdim6/D>, <Chord: Cbdim6/D>]\n",
      "['D', 'F', 'G#', 'B']\n",
      "[<Chord: Bb7/D>]\n",
      "Dbdim7=Db E G Bb:  [<Chord: Dbdim6>, <Chord: Edim6/Db>, <Chord: Gdim6/Db>, <Chord: Bbdim6/Db>]\n",
      "BbM6=Bb D F G [<Chord: Bb6>, <Chord: Gm7/Bb>]\n"
     ]
    }
   ],
   "source": [
    "c = mus.note_to_chord(['C', 'E', 'G'])\n",
    "print(c)\n",
    "print(mus.note_to_chord([\"F\", \"G\", \"C\"]))\n",
    "print(\"Ddim7:\", mus.note_to_chord([\"D\", \"F\", \"Ab\", \"Cb\"]))\n",
    "# mus.Chord(\"Ddim7\") # => ValueError: Unknown quality: dim7\n",
    "print(mus.Chord(\"Ddim6\").components())\n",
    "print(mus.note_to_chord(['D', 'F', 'Ab', 'Bb'])) \n",
    "print(\"Dbdim7=Db E G Bb: \", mus.note_to_chord([\"Db\", \"E\", \"G\", \"Bb\"]))\n",
    "print(\"BbM6=Bb D F G\", mus.note_to_chord([\"Bb\", \"D\", \"F\", \"G\"]))"
   ]
  },
  {
   "cell_type": "markdown",
   "metadata": {},
   "source": [
    "## Chord Progressions"
   ]
  },
  {
   "cell_type": "code",
   "execution_count": 15,
   "metadata": {},
   "outputs": [
    {
     "name": "stdout",
     "output_type": "stream",
     "text": [
      "C | G/B | Am\n",
      "C | G/B | Am | Em/G\n",
      "Eb | Bb/D | Cm | Gm/Bb\n"
     ]
    }
   ],
   "source": [
    "cp = mus.ChordProgression([\"C\", \"G/B\", \"Am\"])\n",
    "print(cp)\n",
    "cp.append(\"Em/G\")\n",
    "print(cp)\n",
    "cp.transpose(+3)\n",
    "print(cp)"
   ]
  },
  {
   "cell_type": "markdown",
   "metadata": {},
   "source": [
    "## Create a Chord from Note Index in a Scale"
   ]
  },
  {
   "cell_type": "code",
   "execution_count": 17,
   "metadata": {},
   "outputs": [
    {
     "name": "stdout",
     "output_type": "stream",
     "text": [
      "C\n",
      "Am7\n",
      "E7\n"
     ]
    }
   ],
   "source": [
    "print(mus.Chord.from_note_index(note=1, quality=\"\", scale=\"Cmaj\"))\n",
    "print(mus.Chord.from_note_index(note=3, quality=\"m7\", scale=\"Fmaj\"))\n",
    "print(mus.Chord.from_note_index(note=5, quality=\"7\", scale=\"Amin\"))"
   ]
  },
  {
   "cell_type": "markdown",
   "metadata": {},
   "source": [
    "### Overwrite the default Quality components with yours\n",
    "\n",
    "```python\n",
    ">>> from pychord import Chord, QualityManager\n",
    ">>> Chord(\"C11\").components()\n",
    "['C', 'G', 'Bb', 'D', 'F']\n",
    "\n",
    ">>> quality_manager = QualityManager()\n",
    ">>> quality_manager.set_quality(\"11\", (0, 4, 7, 10, 14, 17))\n",
    ">>> Chord(\"C11\").components()\n",
    "['C', 'E', 'G', 'Bb', 'D', 'F']\n",
    "```"
   ]
  },
  {
   "cell_type": "markdown",
   "metadata": {},
   "source": [
    "# Hoffman's - A Letter for Alexandr(i)a"
   ]
  },
  {
   "cell_type": "code",
   "execution_count": 51,
   "metadata": {},
   "outputs": [
    {
     "name": "stdout",
     "output_type": "stream",
     "text": [
      "EbM7 -  ['Eb', 'G', 'Bb', 'D']\n",
      "Cm6 -  ['C', 'Eb', 'G', 'A']\n",
      "Dm7 -  ['D', 'F', 'A', 'C']\n",
      "Dbdim6 -  ['Db', 'E', 'G', 'Bb']\n",
      "Cm7 -  ['C', 'Eb', 'G', 'Bb']\n",
      "BM7 -  ['B', 'D#', 'F#', 'A#']\n",
      "Bb6 -  ['Bb', 'D', 'F', 'G']\n",
      "EbM7 | Cm6 | Dm7 | Dbdim6 | Cm7 | BM7 | Bb6\n"
     ]
    }
   ],
   "source": [
    "chordList = [ \"EbM7\", \"Cm6\", \"Dm7\", \"Dbdim6\", \"Cm7\", \"BM7\", \"Bb6\"]\n",
    "chords = [mus.Chord(c) for c in chordList]\n",
    "for c in chordList:\n",
    "    print(f\"{c} - \", mus.Chord(c).components())\n",
    "\n",
    "create_midi('/Users/af59986/Dev/presentations/music/hoffman-a_letter_for_alex.midi', chords)\n"
   ]
  },
  {
   "cell_type": "markdown",
   "metadata": {},
   "source": [
    "# Hoffman's Physics Song"
   ]
  },
  {
   "cell_type": "code",
   "execution_count": 7,
   "metadata": {},
   "outputs": [
    {
     "name": "stdout",
     "output_type": "stream",
     "text": [
      "Gaug7: [<Chord: G7+5>]\n",
      "Bbdim7: [<Chord: Bbdim7>, <Chord: Dbdim7/Bb>, <Chord: Edim7/Bb>, <Chord: Gdim7/Bb>]\n",
      "Bb7: ['Bb', 'D', 'F', 'Ab']\n",
      "Bb7+11: ['Bb', 'D', 'F', 'Ab', 'E']\n",
      "BbM7: ['Bb4', 'D5', 'F5', 'A5']\n",
      "BbM7+11: [<Chord: BbM7+11>]\n",
      "Bbadd11: ['Bb', 'D', 'F', 'Eb']\n",
      "Bm7#5: [<Chord: Bm7+5>]\n",
      "B6: ['B', 'D#', 'F#', 'G#']\n",
      "Bb6: ['Bb', 'D', 'F', 'G']\n",
      "Bm7b5: ['B', 'D', 'F', 'A']\n",
      "Absus2-7#5 [<Chord: Bb7+5/Ab>]\n"
     ]
    }
   ],
   "source": [
    "# working around pychord\n",
    "print(\"Gaug7:\", mus.note_to_chord('G B D# F'.split()))\n",
    "print(\"Bbdim7:\", mus.note_to_chord(\"Bb Db E G\".split()))\n",
    "print(\"Bb7:\", mus.Chord(\"Bb7\").components())\n",
    "print(\"Bb7+11:\", mus.Chord(\"Bb7+11\").components())\n",
    "print(\"BbM7:\", mus.Chord(\"BbM7\").components_with_pitch(4))\n",
    "# print(\"BbM7+11:\", mus.Chord(\"BbM7+11\").components())\n",
    "print(\"BbM7+11:\", mus.note_to_chord(['Bb', 'D', 'F', 'A', 'E']))\n",
    "print(\"Bbadd11:\", mus.Chord(\"Bbadd11\").components())\n",
    "# print(\"BbMadd9:\", mus.Chord(\"BbMadd\").components())\n",
    "# print(\"BbM7add11:\", mus.Chord(\"BbM7add11\").components())\n",
    "# print(\"Bb7add11:\", mus.Chord(\"Bb7add11\").components())\n",
    "# print(\"Bbm7add11:\", mus.Chord(\"Bbm7add11\").components())\n",
    "# print(\"BbM7add#11\", mus.note_to_chord('Bb D F A E'.split()))\n",
    "print(\"Bm7#5:\", mus.note_to_chord(\"B D G A\".split()))\n",
    "print(\"B6:\", mus.Chord(\"B6\").components())\n",
    "print(\"Bb6:\", mus.Chord(\"Bb6\").components())\n",
    "print(\"Bm7b5:\", mus.Chord(\"Bm7b5\").components())\n",
    "print(\"Absus2-7#5\", mus.note_to_chord('Ab Bb D Gb'.split()))"
   ]
  },
  {
   "cell_type": "code",
   "execution_count": 102,
   "metadata": {},
   "outputs": [
    {
     "name": "stdout",
     "output_type": "stream",
     "text": [
      "[<Chord: Bm7>, <Chord: D9>, <Chord: GM7>, <Chord: G7+5>, <Chord: Bm7>, <Chord: Bbm7>, <Chord: Bm7>, <Chord: C7>, <Chord: Bm7>, <Chord: D9>, <Chord: GM7>, <Chord: G7+5>, <Chord: Bm7>, <Chord: Bbm7>, <Chord: Bm7>, <Chord: C7>, <Chord: Dm7>, <Chord: Em7>, <Chord: Bm7b5>, <Chord: BbM7>, <Chord: Bb7+5/Ab>, <Chord: Gmaj7>]\n"
     ]
    }
   ],
   "source": [
    "# section_a = chorder('Bm7, D9, AbM7, GM7, G7+5, Bbdim6')\n",
    "section_a = chorder('Bm7, D9, GM7, G7+5')\n",
    "section_b = chorder('Bm7, Bbm7, Bm7, C7')\n",
    "# section_c = chorder('Dm7, Em7, Bm7b5, BbM7, Absus2, Gmaj7')\n",
    "section_c = chorder('Dm7, Em7, Bm7b5, BbM7, Bb7+5/Ab, Gmaj7')\n",
    "\n",
    "# song = sum([section_a,section_b, section_a, section_b, section_c], [])\n",
    "song = section_a + section_b + section_a + section_b + section_c\n",
    "print(song)\n",
    "\n",
    "create_midi('/Users/af59986/Dev/presentations/music/hoffman-physics2.midi', song)\n"
   ]
  }
 ],
 "metadata": {
  "kernelspec": {
   "display_name": "Python 3.7.3 64-bit",
   "name": "python373jvsc74a57bd031f2aee4e71d21fbe5cf8b01ff0e069b9275f58929596ceb00d14d90e3e16cd6"
  },
  "language_info": {
   "codemirror_mode": {
    "name": "ipython",
    "version": 3
   },
   "file_extension": ".py",
   "mimetype": "text/x-python",
   "name": "python",
   "nbconvert_exporter": "python",
   "pygments_lexer": "ipython3",
   "version": "3.7.3"
  },
  "metadata": {
   "interpreter": {
    "hash": "31f2aee4e71d21fbe5cf8b01ff0e069b9275f58929596ceb00d14d90e3e16cd6"
   }
  },
  "orig_nbformat": 2
 },
 "nbformat": 4,
 "nbformat_minor": 2
}