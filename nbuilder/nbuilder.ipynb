{
  "cells": [
    {
      "cell_type": "markdown",
      "metadata": {},
      "source": [
        "# Using NBuilder to Speed Up Test Object Creation"
      ]
    },
    {
      "cell_type": "code",
      "execution_count": 1,
      "metadata": {
        "dotnet_interactive": {
          "language": "csharp"
        }
      },
      "source": [
        "#r \"nuget:NBuilder,6.1.0\""
      ],
      "outputs": []
    },
    {
      "cell_type": "code",
      "execution_count": 1,
      "metadata": {
        "dotnet_interactive": {
          "language": "csharp"
        }
      },
      "source": [
        "enum CurveType { Forwards, Settle, Stats }\n",
        "enum CompanyType { Internal, External, Exchange }\n",
        "class Company {\n",
        "    public int Id { get; set; }\n",
        "    public string Name { get; set; }\n",
        "    public CompanyType Type {get; set; }\n",
        "    public override string ToString() => $\"{Name} - {Type}\";\n",
        "}\n",
        "class TimeSeriesInstance {\n",
        "    public DateTime ObservationDate { get; set; }\n",
        "    public decimal Value { get; set; }\n",
        "    public override string ToString() => $\"{ObservationDate:d} - {Value:n2}\";\n",
        "}\n",
        "class Curve {\n",
        "    public int ID { get; set; }\n",
        "    public CurveType Type { get; set; }\n",
        "    public int ProductId { get; set; }\n",
        "    public Company[] Publishers { get; set; }  = Array.Empty<Company>();\n",
        "    public IList<TimeSeriesInstance> Instances { get; set; } = new List<TimeSeriesInstance>();\n",
        "    public IDictionary<string, string> Properties { get; set; } = new Dictionary<string, string> { \n",
        "        [\"Frequency\"] = \"Daily\"\n",
        "    };\n",
        "\n",
        "    public string GetKey() => $\"{ProductId}:{Publishers.FirstOrDefault()?.Name}:{Type.ToString()}\";\n",
        "\n",
        "    /*\n",
        "    public string Name {\n",
        "        get {\n",
        "            var frequency = Properties[\"Frequency\"];\n",
        "            var mainPublisher = Publishers[0].Id;\n",
        "            var type = Type switch {\n",
        "                CurveType.Forwards => \"FWD\",\n",
        "                _ => \"OTHER\"\n",
        "            };\n",
        "\n",
        "            return $\"{frequency} {type} by company {mainPublisher}\";\n",
        "        }\n",
        "    }\n",
        "    */\n",
        "}"
      ],
      "outputs": []
    },
    {
      "cell_type": "markdown",
      "metadata": {},
      "source": [
        "## Create a List"
      ]
    },
    {
      "cell_type": "code",
      "execution_count": 1,
      "metadata": {
        "dotnet_interactive": {
          "language": "csharp"
        }
      },
      "source": [
        "using FizzWare.NBuilder;\n",
        "\n",
        "var curves = Builder<Curve>.CreateListOfSize(5).Build();\n",
        "curves"
      ],
      "outputs": []
    },
    {
      "cell_type": "markdown",
      "metadata": {},
      "source": [
        "## Create a List - Control Values"
      ]
    },
    {
      "cell_type": "code",
      "execution_count": 1,
      "metadata": {
        "dotnet_interactive": {
          "language": "csharp"
        }
      },
      "source": [
        "using FizzWare.NBuilder;\n",
        "\n",
        "var curves = Builder<Curve>.CreateListOfSize(5)\n",
        "    .All()\n",
        "        .With(c => c.ProductId = 20)\n",
        "    .TheFirst(2)\n",
        "        .With(c => c.Type = CurveType.Forwards)\n",
        "    .TheNext(3)\n",
        "        .With(c => c.Type = CurveType.Stats)\n",
        "    .TheLast(3)\n",
        "        .With(c => c.Properties[\"Frequency\"] = \"Weekly\")\n",
        "    .Build();\n",
        "curves"
      ],
      "outputs": []
    },
    {
      "cell_type": "markdown",
      "metadata": {},
      "source": [
        "## Populate Some List Properties from Other Generated Lists"
      ]
    },
    {
      "cell_type": "code",
      "execution_count": 1,
      "metadata": {
        "dotnet_interactive": {
          "language": "csharp"
        }
      },
      "source": [
        "using FizzWare.NBuilder;\n",
        "\n",
        "var companies = Builder<Company>.CreateListOfSize(10).Build();\n",
        "var timeSeries = Builder<TimeSeriesInstance>.CreateListOfSize(100).Build();\n",
        "\n",
        "var curves = Builder<Curve>.CreateListOfSize(3)\n",
        "    .All()\n",
        "        .With(c => c.Publishers = new[] { Pick<Company>.RandomItemFrom(companies) })\n",
        "        .With(c => c.Instances = Pick<TimeSeriesInstance>.UniqueRandomList(10).From(timeSeries).ToList())\n",
        "    .Build();\n",
        "\n",
        "curves"
      ],
      "outputs": []
    },
    {
      "cell_type": "markdown",
      "metadata": {},
      "source": [
        "## Control Incremental Value Generation"
      ]
    },
    {
      "cell_type": "code",
      "execution_count": 1,
      "metadata": {
        "dotnet_interactive": {
          "language": "csharp"
        }
      },
      "source": [
        "using FizzWare.NBuilder;\n",
        "\n",
        "var dateSeqGen = new SequentialGenerator<DateTime> {\n",
        "    Direction = GeneratorDirection.Ascending,\n",
        "    IncrementDateBy = IncrementDate.Day,\n",
        "};\n",
        "dateSeqGen.StartingWith(new DateTime(2010, 3, 1));\n",
        "\n",
        "var timeSeries = Builder<TimeSeriesInstance>.CreateListOfSize(10)\n",
        "    .TheFirst(5)\n",
        "    .With(x => x.ObservationDate = dateSeqGen.Generate())\n",
        "    .Build();\n",
        "\n",
        "timeSeries"
      ],
      "outputs": []
    }
  ],
  "metadata": {
    "kernelspec": {
      "display_name": ".NET (C#)",
      "language": "C#",
      "name": ".net-csharp"
    },
    "language_info": {
      "file_extension": ".cs",
      "mimetype": "text/x-csharp",
      "name": "C#",
      "pygments_lexer": "csharp",
      "version": "8.0"
    }
  },
  "nbformat": 4,
  "nbformat_minor": 4
}