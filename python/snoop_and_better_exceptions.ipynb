{
    "cells": [
        {
            "cell_type": "markdown",
            "source": [
                "# Python Libraries For Better Code Insights"
            ],
            "metadata": {}
        },
        {
            "cell_type": "markdown",
            "source": [
                "## Snoop - Never Use `print` Again"
            ],
            "metadata": {}
        },
        {
            "cell_type": "code",
            "execution_count": null,
            "source": [
                "ROMAN = [\n",
                "    (1000, \"M\"),\n",
                "    ( 900, \"CM\"),\n",
                "    ( 500, \"D\"),\n",
                "    ( 400, \"CD\"),\n",
                "    ( 100, \"C\"),\n",
                "    (  90, \"XC\"),\n",
                "    (  50, \"L\"),\n",
                "    (  40, \"XL\"),\n",
                "    (  10, \"X\"),\n",
                "    (   9, \"IX\"),\n",
                "    (   5, \"V\"),\n",
                "    (   4, \"IV\"),\n",
                "    (   1, \"I\"),\n",
                "]\n",
                "\n",
                "def to_roman(number: int):\n",
                "    result = \"\"\n",
                "    for (arabic, roman) in ROMAN:\n",
                "        (factor, number) = divmod(number, arabic)\n",
                "        result += roman * factor\n",
                "    return result\n",
                "\n",
                "print(to_roman(2021))\n",
                "print(to_roman(8))\n"
            ],
            "outputs": [],
            "metadata": {}
        },
        {
            "cell_type": "markdown",
            "source": [
                "### Snooping on execution"
            ],
            "metadata": {}
        },
        {
            "cell_type": "code",
            "execution_count": null,
            "source": [
                "import snoop\n",
                "\n",
                "@snoop\n",
                "def to_roman2(number: int):\n",
                "    result = \"\"\n",
                "    for (arabic, roman) in ROMAN:\n",
                "        (factor, number) = divmod(number, arabic)\n",
                "        result += roman * factor\n",
                "    return result\n",
                "\n",
                "\n",
                "print(to_roman2(2021))"
            ],
            "outputs": [],
            "metadata": {}
        },
        {
            "cell_type": "code",
            "execution_count": 6,
            "source": [
                "from statistics import stdev\n",
                "numbers = [1, 2, 3, 4, 5, 6, 7, 8, 9, 10]\n",
                "print(f\"numbers={numbers}: stdev={stdev(numbers)}\")"
            ],
            "outputs": [
                {
                    "output_type": "stream",
                    "name": "stdout",
                    "text": [
                        "numbers=[1, 2, 3, 4, 5, 6, 7, 8, 9, 10]: var=9.166666666666666, stdev=3.0276503540974917\n"
                    ]
                }
            ],
            "metadata": {}
        },
        {
            "cell_type": "markdown",
            "source": [
                "### Snooping on referenced functions"
            ],
            "metadata": {}
        },
        {
            "cell_type": "code",
            "execution_count": null,
            "source": [
                "def mystddev(max: int) -> float:\n",
                "    my_numbers = list(range(max))\n",
                "    with snoop(depth=2):\n",
                "        return stdev(my_numbers)\n",
                "\n",
                "print(mystddev(5))"
            ],
            "outputs": [],
            "metadata": {}
        },
        {
            "cell_type": "code",
            "execution_count": null,
            "source": [
                "from statistics import median\n",
                "print(median(numbers) + 2 * stdev(numbers))"
            ],
            "outputs": [],
            "metadata": {}
        },
        {
            "cell_type": "markdown",
            "source": [
                "### `pp` - pretty print"
            ],
            "metadata": {}
        },
        {
            "cell_type": "code",
            "execution_count": null,
            "source": [
                "from snoop import pp\n",
                "pp(pp(median(numbers)) + pp(2 * pp(stdev(numbers))))"
            ],
            "outputs": [],
            "metadata": {}
        },
        {
            "cell_type": "markdown",
            "source": [
                "Shortcut: `pp.deep` + parameters-less lambda"
            ],
            "metadata": {}
        },
        {
            "cell_type": "code",
            "execution_count": null,
            "source": [
                "# print(median(numbers) + 2 * stdev(numbers))\n",
                "pp.deep(lambda: median(numbers) + 2 * stdev(numbers))"
            ],
            "outputs": [],
            "metadata": {}
        },
        {
            "cell_type": "markdown",
            "source": [
                "### How to use in Jupyter\n",
                "\n",
                "Load extension with `%load_ext snoop` in a notebook cell, then use the cell magic `%%snoop` at the top of a notebook cell to trace that cell:\n",
                "\n",
                "![Use injJupyter](https://warehouse-camo.ingress.cmh1.psfhosted.org/98ed48e9755f88c30764835c793ab83acb475baf/68747470733a2f2f692e696d6775722e636f6d2f64364c374e6e482e706e67)"
            ],
            "metadata": {}
        },
        {
            "cell_type": "markdown",
            "source": [
                "## `better-exceptions` - Better and Prettier Stack Traces"
            ],
            "metadata": {}
        },
        {
            "cell_type": "code",
            "execution_count": null,
            "source": [
                "users = { \n",
                "    'user1': { 'is_admin': True, 'email': 'one@exmple.com'},\n",
                "    'user2': { 'is_admin': True, 'phone': '281-555-5555' },\n",
                "    'user3': { 'is_admin': False, 'email': 'three@example.com' },\n",
                "}\n",
                "\n",
                "def email_user(*user_names) -> None:\n",
                "    global users\n",
                "    for user in user_names:\n",
                "        print(\"Emailing %s at %s\", (user, users[user]['email']))\n",
                "\n",
                "email_user('user1', 'user2')\n"
            ],
            "outputs": [],
            "metadata": {}
        },
        {
            "cell_type": "markdown",
            "source": [
                "![Without better exceptions](better_ex_without.png)\n"
            ],
            "metadata": {}
        },
        {
            "cell_type": "markdown",
            "source": [
                "Import the `better_exceptions` module and set the `BETTER_EXCEPTIONS` environment variable to any value:\n",
                "\n",
                "    export BETTER_EXCEPTIONS=1  # Linux / OSX\n",
                "    setx BETTER_EXCEPTIONS 1    # Windows\n",
                "\n",
                "And get a stack trace with printed values:\n",
                "\n",
                "![Without better exceptions](better_ex_with.png)\n",
                "\n"
            ],
            "metadata": {}
        }
    ],
    "metadata": {
        "orig_nbformat": 4,
        "language_info": {
            "name": "python",
            "version": "3.7.3",
            "mimetype": "text/x-python",
            "codemirror_mode": {
                "name": "ipython",
                "version": 3
            },
            "pygments_lexer": "ipython3",
            "nbconvert_exporter": "python",
            "file_extension": ".py"
        },
        "kernelspec": {
            "name": "python3",
            "display_name": "Python 3.7.3 64-bit ('.venv-snoop': venv)"
        },
        "interpreter": {
            "hash": "c5388031901e32e4574e9094c38cd780b31f6f743f5016a0ff176c8f3d50c5cd"
        }
    },
    "nbformat": 4,
    "nbformat_minor": 2
}